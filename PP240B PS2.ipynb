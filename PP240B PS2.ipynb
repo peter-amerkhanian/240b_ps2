{
 "cells": [
  {
   "cell_type": "code",
   "execution_count": 1,
   "id": "3ad1b767",
   "metadata": {},
   "outputs": [
    {
     "name": "stderr",
     "output_type": "stream",
     "text": [
      "Warning message:\n",
      "\"package 'patchwork' was built under R version 3.6.3\""
     ]
    }
   ],
   "source": [
    "library(haven)\n",
    "library(ggplot2)\n",
    "library(patchwork)\n",
    "library(repr)\n",
    "library(jtools)"
   ]
  },
  {
   "cell_type": "code",
   "execution_count": 2,
   "id": "df9e1c16",
   "metadata": {},
   "outputs": [],
   "source": [
    "econ_growth <- read_dta(\"data/ps2_CountryEconGrowth.dta\")\n",
    "tn_star <- read_dta(\"data/ps2data_TNStar.dta\")"
   ]
  },
  {
   "cell_type": "markdown",
   "id": "604b6836",
   "metadata": {},
   "source": [
    "# Question #4: An Empirical Investigation of Economic Growth\n",
    "### Variables:\n",
    "| Variable      | Definition |\n",
    "| :----------- | -----------: |\n",
    "country_name | Name of country\n",
    "growth | Average annual percentage growth of real GDP from 1960 to 1995\n",
    "europe | =1 if country is in Europe\n",
    "_ | =0 otherwise\n",
    "yearsschool | Average number of years of schooling if adult residents in that country in 1960\n",
    "assasinations | Average number of political assassinations in country from 1960 to 1995 (per million population)\n",
    "\n",
    "### A. Preliminary analysis\n",
    "a) Provide scatter plots for a country’s annual growth rate against the average\n",
    "number of years of schooling and assassinations  \n",
    "b) Based on the graphs in a), how do years of schooling and number of\n",
    "assassinations appear to affect economic growth? "
   ]
  },
  {
   "cell_type": "code",
   "execution_count": 3,
   "id": "ef03f0e6",
   "metadata": {},
   "outputs": [],
   "source": [
    "p1 <- ggplot(econ_growth, aes(x=growth, y=assasinations)) +\n",
    "geom_point(alpha = 0.8, color=\"royalblue\", size=2.5)\n",
    "\n",
    "p2 <- ggplot(econ_growth, aes(x=growth, y=yearsschool)) +\n",
    "geom_point(alpha = 0.8, color=\"orange\", size=2.5)\n",
    "\n",
    "# scale visuals\n",
    "options(repr.plot.width=10, repr.plot.height=5)"
   ]
  },
  {
   "cell_type": "markdown",
   "id": "814accf7",
   "metadata": {},
   "source": [
    "### a)"
   ]
  },
  {
   "cell_type": "code",
   "execution_count": 4,
   "id": "80909767",
   "metadata": {},
   "outputs": [
    {
     "data": {
      "image/png": "[encoded data removed]",
      "text/plain": [
       "plot without title"
      ]
     },
     "metadata": {},
     "output_type": "display_data"
    }
   ],
   "source": [
    "p1 + p2+ plot_annotation(\n",
    "  title = \"Annual growth rate against average number of years of schooling and assassinations, 1960-1995\",\n",
    ")"
   ]
  },
  {
   "cell_type": "markdown",
   "id": "38c2400b",
   "metadata": {},
   "source": [
    "### b)"
   ]
  },
  {
   "cell_type": "markdown",
   "id": "fe297a9f",
   "metadata": {},
   "source": [
    "We can reach no conclusion regarding how either of these variable affect economic growth. However, we can conclude that yearsschool appears more correlated with economic growth than does assassinations"
   ]
  },
  {
   "cell_type": "markdown",
   "id": "c347f502",
   "metadata": {},
   "source": [
    "## 4 B. Bivariate regression  \n",
    "### a)\n",
    "Write the regression of growth on years of schooling in equation form. \n",
    "\\begin{align}\n",
    "\\hat{yearsschool_i} = \\beta_0 + \\beta_1growth_i + \\epsilon_i\n",
    "\\end{align}\n",
    "### b)\n",
    "What does the subscript i index here?  \n",
    "**Answer:** The subscript $i$ indicates an index in each variable vector, AKA the row in each variable's column in the dataset  \n",
    "\n",
    "### c)\n",
    "Estimate the regression in a). Display the results in a table, including the Rsquared and the number of observations. "
   ]
  },
  {
   "cell_type": "code",
   "execution_count": 5,
   "id": "a42d9b0c",
   "metadata": {},
   "outputs": [
    {
     "data": {
      "text/plain": [
       "MODEL INFO:\n",
       "Observations: 65\n",
       "Dependent Variable: growth\n",
       "Type: OLS linear regression \n",
       "\n",
       "MODEL FIT:\n",
       "F(1,63) = 7.75154, p = 0.00708\n",
       "R² = 0.10956\n",
       "Adj. R² = 0.09543 \n",
       "\n",
       "Standard errors: OLS\n",
       "-------------------------------------------------------------------\n",
       "                       Est.      2.5%     97.5%    t val.         p\n",
       "----------------- --------- --------- --------- --------- ---------\n",
       "(Intercept)         0.95829   0.12207   1.79451   2.29007   0.02538\n",
       "yearsschool         0.24703   0.06972   0.42433   2.78416   0.00708\n",
       "-------------------------------------------------------------------"
      ]
     },
     "metadata": {},
     "output_type": "display_data"
    },
    {
     "name": "stdout",
     "output_type": "stream",
     "text": [
      "Also\n",
      "At alpha= 0.05 and d.f.= 64 T_crit= -1.99773"
     ]
    }
   ],
   "source": [
    "bivariate_model <- lm(growth ~ yearsschool, data=econ_growth)\n",
    "summ(bivariate_model, confint = TRUE, ci.width = .95, digits = 5)\n",
    "\n",
    "deg_free <- dim(econ_growth)[1]-1\n",
    "alpha = .025\n",
    "t_crit <- qt(p = alpha, df = deg_free, lower.tail = TRUE)\n",
    "cat(\"Also\\nAt alpha=\", alpha*2,\"and d.f.=\", deg_free, \"T_crit=\", t_crit)"
   ]
  },
  {
   "cell_type": "markdown",
   "id": "900848eb",
   "metadata": {},
   "source": [
    "### d) \n",
    "**intercept:** with an average number of years of schooling of adult residents in 1960 of 0 we would expect average annual economic growth to be 0.958%  \n",
    "**slope:** A 1 year increase in average number of years of schooling of adult residents in 1960 is associated with a .247% increase in average annual economic growth  \n",
    "  \n",
    "\\begin{align}\n",
    "\\hat{\\beta_1} \\text{  } 95\\text{% CI} &= \\left[0.079, 0.416\\right] \\\\\n",
    "H_0 : \\hat{\\beta_1} &= 0 \\\\\n",
    "H_0 : \\hat{\\beta_1} &\\neq 0 \\\\\n",
    "\\text{Given: }\\\\\n",
    "t &= 2.929 \\\\\n",
    "t_{critical} &= 1.998 \\\\\n",
    "p &= 0.00473\n",
    "\\end{align}\n",
    "We can reject the null hypothesis with over 99% confidence (p=0.004)\n",
    "\n",
    "### e)"
   ]
  },
  {
   "cell_type": "code",
   "execution_count": 6,
   "id": "b0b65068",
   "metadata": {},
   "outputs": [
    {
     "data": {
      "text/plain": [
       "MODEL INFO:\n",
       "Observations: 65\n",
       "Dependent Variable: growth\n",
       "Type: OLS linear regression \n",
       "\n",
       "MODEL FIT:\n",
       "F(2,62) = 4.29457, p = 0.01792\n",
       "R² = 0.12168\n",
       "Adj. R² = 0.09334 \n",
       "\n",
       "Standard errors: OLS\n",
       "------------------------------------------------------------------------\n",
       "                          Est.       2.5%     97.5%     t val.         p\n",
       "------------------- ---------- ---------- --------- ---------- ---------\n",
       "(Intercept)            1.11847    0.21229   2.02465    2.46726   0.01639\n",
       "yearsschool            0.23666    0.05769   0.41563    2.64330   0.01038\n",
       "assasinations         -0.42824   -1.35382   0.49734   -0.92487   0.35862\n",
       "------------------------------------------------------------------------"
      ]
     },
     "metadata": {},
     "output_type": "display_data"
    }
   ],
   "source": [
    "multivariate_model <- lm(growth ~ yearsschool + assasinations, data=econ_growth)\n",
    "summ(multivariate_model, confint = TRUE, ci.width = .95, digits = 5)"
   ]
  },
  {
   "cell_type": "markdown",
   "id": "3c925825",
   "metadata": {},
   "source": [
    "### f)\n",
    "Controlling for political assasinations, the association between a country's economic growth and educational attainment is basically unchanged - $\\hat{\\beta_1} = 0.24703$, $p = 0.00473$ in the bivariate regression, versus $\\hat{\\beta_1} = 0.23666$, $p = 0.01014$ when controlling for assasinations. There is a slight decrease in slope, t value, and slight increase in p, but the association is still statistically significant."
   ]
  },
  {
   "cell_type": "markdown",
   "id": "b6fcf054",
   "metadata": {},
   "source": [
    "# Question #5: The Determinants of Test Scores\n",
    "| Variable      | Definition |\n",
    "| :----------- | -----------: |\n",
    "Experience | Years of total teacher experience\n",
    "Mathscore | Total scaled math score (measured in points)\n",
    "Freelunch | =1 if student is receiving a subsidized lunch, 0 else\n",
    "Masters | =1 if the teacher has a master’s (MA), 0 else\n",
    "Innercity | =1 if the student’s residence is located in the inner city \n",
    "\n",
    "## a)\n",
    "\\begin{align}\n",
    "Mathscore_i = \\beta_0 + \\beta_1FreeLunch_i + \\epsilon_i\n",
    "\\end{align}"
   ]
  },
  {
   "cell_type": "code",
   "execution_count": 7,
   "id": "a2af6b6e",
   "metadata": {},
   "outputs": [
    {
     "data": {
      "text/plain": [
       "MODEL INFO:\n",
       "Observations: 5871\n",
       "Dependent Variable: mathscore\n",
       "Type: OLS linear regression \n",
       "\n",
       "MODEL FIT:\n",
       "F(1,5869) = 368.91274, p = 0.00000\n",
       "R² = 0.05914\n",
       "Adj. R² = 0.05898 \n",
       "\n",
       "Standard errors: OLS\n",
       "---------------------------------------------------------------------------\n",
       "                         Est.        2.5%       97.5%      t val.         p\n",
       "----------------- ----------- ----------- ----------- ----------- ---------\n",
       "(Intercept)         496.53937   494.89640   498.18234   592.46499   0.00000\n",
       "freelunch           -23.21418   -25.58353   -20.84483   -19.20710   0.00000\n",
       "---------------------------------------------------------------------------"
      ]
     },
     "metadata": {},
     "output_type": "display_data"
    }
   ],
   "source": [
    "bivariate_model_tn_star <- lm(mathscore ~ freelunch, data=tn_star)\n",
    "summ(bivariate_model_tn_star, confint = TRUE, ci.width = .95, digits = 5)"
   ]
  },
  {
   "cell_type": "code",
   "execution_count": null,
   "id": "6b555081",
   "metadata": {},
   "outputs": [],
   "source": []
  },
  {
   "cell_type": "markdown",
   "id": "93443b09",
   "metadata": {},
   "source": [
    "## c)\n"
   ]
  },
  {
   "cell_type": "code",
   "execution_count": 8,
   "id": "0d334fdd",
   "metadata": {},
   "outputs": [
    {
     "data": {
      "text/plain": [
       "MODEL INFO:\n",
       "Observations: 5850 (21 missing obs. deleted)\n",
       "Dependent Variable: mathscore\n",
       "Type: OLS linear regression \n",
       "\n",
       "MODEL FIT:\n",
       "F(2,5847) = 207.69432, p = 0.00000\n",
       "R² = 0.06633\n",
       "Adj. R² = 0.06601 \n",
       "\n",
       "Standard errors: OLS\n",
       "---------------------------------------------------------------------------\n",
       "                         Est.        2.5%       97.5%      t val.         p\n",
       "----------------- ----------- ----------- ----------- ----------- ---------\n",
       "(Intercept)         489.91026   487.34286   492.47766   374.07687   0.00000\n",
       "freelunch           -22.72617   -25.09830   -20.35405   -18.78134   0.00000\n",
       "experience            0.69399     0.48956     0.89841     6.65506   0.00000\n",
       "---------------------------------------------------------------------------"
      ]
     },
     "metadata": {},
     "output_type": "display_data"
    }
   ],
   "source": [
    "omitted_var_model_tn_star <- lm(mathscore ~ freelunch + experience, data=tn_star)\n",
    "summ(omitted_var_model_tn_star, confint = TRUE, ci.width = .95, digits = 5)"
   ]
  },
  {
   "cell_type": "code",
   "execution_count": null,
   "id": "2506fad3",
   "metadata": {},
   "outputs": [],
   "source": []
  },
  {
   "cell_type": "markdown",
   "id": "9d68b259",
   "metadata": {},
   "source": [
    "## d)"
   ]
  },
  {
   "cell_type": "code",
   "execution_count": 9,
   "id": "d301121d",
   "metadata": {},
   "outputs": [
    {
     "data": {
      "text/plain": [
       "MODEL INFO:\n",
       "Observations: 5871\n",
       "Dependent Variable: mathscore\n",
       "Type: OLS linear regression \n",
       "\n",
       "MODEL FIT:\n",
       "F(2,5868) = 200.68903, p = 0.00000\n",
       "R² = 0.06402\n",
       "Adj. R² = 0.06370 \n",
       "\n",
       "Standard errors: OLS\n",
       "---------------------------------------------------------------------------\n",
       "                         Est.        2.5%       97.5%      t val.         p\n",
       "----------------- ----------- ----------- ----------- ----------- ---------\n",
       "(Intercept)         496.96859   495.32271   498.61447   591.92698   0.00000\n",
       "freelunch           -19.98955   -22.61469   -17.36441   -14.92753   0.00000\n",
       "innercity            -8.89976   -12.05348    -5.74604    -5.53213   0.00000\n",
       "---------------------------------------------------------------------------"
      ]
     },
     "metadata": {},
     "output_type": "display_data"
    }
   ],
   "source": [
    "multivar_model_tn_star <- lm(mathscore ~ freelunch + innercity, data=tn_star)\n",
    "summ(multivar_model_tn_star, confint = TRUE, ci.width = .95, digits = 5)"
   ]
  },
  {
   "cell_type": "code",
   "execution_count": null,
   "id": "6b5bec62",
   "metadata": {},
   "outputs": [],
   "source": []
  }
 ],
 "metadata": {
  "kernelspec": {
   "display_name": "R",
   "language": "R",
   "name": "ir"
  },
  "language_info": {
   "codemirror_mode": "r",
   "file_extension": ".r",
   "mimetype": "text/x-r-source",
   "name": "R",
   "pygments_lexer": "r",
   "version": "3.6.1"
  }
 },
 "nbformat": 4,
 "nbformat_minor": 5
}
