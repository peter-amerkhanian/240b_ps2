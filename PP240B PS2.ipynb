{
 "cells": [
  {
   "cell_type": "code",
   "execution_count": 88,
   "id": "3ad1b767",
   "metadata": {},
   "outputs": [],
   "source": [
    "library(haven)\n",
    "library(ggplot2)\n",
    "library(repr)\n",
    "require(gridExtra)\n",
    "library(xtable)"
   ]
  },
  {
   "cell_type": "code",
   "execution_count": 89,
   "id": "df9e1c16",
   "metadata": {},
   "outputs": [],
   "source": [
    "econ_growth <- read_dta(\"data/ps2_CountryEconGrowth.dta\")\n",
    "tn_star <- read_dta(\"data/ps2data_TNStar.dta\")"
   ]
  },
  {
   "cell_type": "markdown",
   "id": "604b6836",
   "metadata": {},
   "source": [
    "# Question #4: An Empirical Investigation of Economic Growth\n",
    "### Variables:\n",
    "| Variable      | Definition |\n",
    "| :----------- | -----------: |\n",
    "|country_name | Name of country|\n",
    "|growth | Average annual percentage growth of real GDP from 1960 to 1995|\n",
    "|europe | =1 if country is in Europe|\n",
    "|_ | =0 otherwise|\n",
    "|yearsschool | Average number of years of schooling if adult residents in that country in 1960|\n",
    "|assasinations | Average number of political assassinations in country from 1960 to 1995 (per million population)|\n",
    "\n",
    "### A. Preliminary analysis\n",
    "### a)\n",
    "Provide scatter plots for a country’s annual growth rate against the average\n",
    "number of years of schooling and assassinations  "
   ]
  },
  {
   "cell_type": "code",
   "execution_count": 151,
   "id": "ef03f0e6",
   "metadata": {},
   "outputs": [
    {
     "data": {
      "image/png": "[encoded data removed]",
      "text/plain": [
       "plot without title"
      ]
     },
     "metadata": {},
     "output_type": "display_data"
    }
   ],
   "source": [
    "options(repr.plot.width=10, repr.plot.height=5)\n",
    "\n",
    "p1 <- ggplot(econ_growth, aes(x=assasinations, y=growth)) +\n",
    "geom_point(alpha = 0.8, color=\"royalblue\", size=2.5) +\n",
    "xlab(\"Average number of political assassinations in country\") + \n",
    "ylab(\"Average annual percentage growth of real GDP\")\n",
    "\n",
    "p2 <- ggplot(econ_growth, aes(x=yearsschool, y=growth)) +\n",
    "geom_point(alpha = 0.8, color=\"orange\", size=2.5) +\n",
    "xlab(\"Average number of years of schooling of adult residents in country\") + \n",
    "ylab(\"\")\n",
    "\n",
    "title <-\"Annual growth rate against the average number of years of schooling and assassinations\\n1960-1995\"\n",
    "\n",
    "grid.arrange(top=title, p1, p2, ncol=2)"
   ]
  },
  {
   "cell_type": "markdown",
   "id": "38c2400b",
   "metadata": {},
   "source": [
    "### b) Based on the graphs in a), how do years of schooling and number of assassinations appear to affect economic growth? "
   ]
  },
  {
   "cell_type": "markdown",
   "id": "fe297a9f",
   "metadata": {},
   "source": [
    "We can reach no conclusion regarding how either of these variable affect economic growth. However, we can conclude that yearsschool appears more correlated with economic growth than does assassinations"
   ]
  },
  {
   "cell_type": "markdown",
   "id": "c347f502",
   "metadata": {},
   "source": [
    "## 4 B. Bivariate regression  \n",
    "### a) Write the regression of growth on years of schooling in equation form. \n",
    "\n",
    "\\begin{align}\n",
    "\\hat{growth_i} = \\beta_0 + \\beta_1yearsschool_i + \\epsilon_i\n",
    "\\end{align}\n",
    "### b) What does the subscript i index here?  \n",
    "**Answer:** The subscript $i$ indicates an index in each variable vector, AKA the row in each variable's column in the dataset AKA each country. \n",
    "\n",
    "### c) Estimate the regression in a). Display the results in a table, including the Rsquared and the number of observations. "
   ]
  },
  {
   "cell_type": "code",
   "execution_count": 138,
   "id": "a42d9b0c",
   "metadata": {},
   "outputs": [
    {
     "data": {
      "text/plain": [
       "\n",
       "Call:\n",
       "lm(formula = growth ~ yearsschool, data = econ_growth)\n",
       "\n",
       "Residuals:\n",
       "    Min      1Q  Median      3Q     Max \n",
       "-3.9036 -1.2138 -0.1498  0.8507  5.4007 \n",
       "\n",
       "Coefficients:\n",
       "            Estimate Std. Error t value Pr(>|t|)   \n",
       "(Intercept)  0.95829    0.41846   2.290  0.02538 * \n",
       "yearsschool  0.24703    0.08873   2.784  0.00708 **\n",
       "---\n",
       "Signif. codes:  0 '***' 0.001 '**' 0.01 '*' 0.05 '.' 0.1 ' ' 1\n",
       "\n",
       "Residual standard error: 1.804 on 63 degrees of freedom\n",
       "Multiple R-squared:  0.1096,\tAdjusted R-squared:  0.09543 \n",
       "F-statistic: 7.752 on 1 and 63 DF,  p-value: 0.007077\n"
      ]
     },
     "metadata": {},
     "output_type": "display_data"
    }
   ],
   "source": [
    "bivariate_model <- lm(growth ~ yearsschool, data=econ_growth)\n",
    "summary(bivariate_model)"
   ]
  },
  {
   "cell_type": "code",
   "execution_count": 139,
   "id": "42bdc184",
   "metadata": {},
   "outputs": [
    {
     "name": "stdout",
     "output_type": "stream",
     "text": [
      "obs: 65\n",
      "R^2: 0.1095601"
     ]
    }
   ],
   "source": [
    "n <- dim(econ_growth)[1]\n",
    "cat(\"obs:\", n)\n",
    "cat(\"\\nR^2:\", summary((bivariate_model))$r.squared)"
   ]
  },
  {
   "cell_type": "markdown",
   "id": "8c1f3626",
   "metadata": {},
   "source": [
    "### d) Interpret both the intercept and the slope coefficients. Provide a 95% confidence interval for the slope coefficient. Test the null hypothesis that educational attainment is not a significant predictor of economic growth.  \n",
    "  \n",
    "**Answer:**  \n",
    "**intercept:** with an average number of years of schooling of adult residents in 1960 of 0 we would expect average annual economic growth to be 0.958%  \n",
    "**slope:** A 1 year increase in average number of years of schooling of adult residents in 1960 is associated with a .247% increase in average annual economic growth  \n",
    "  \n",
    "**95% C.I.:**"
   ]
  },
  {
   "cell_type": "code",
   "execution_count": 78,
   "id": "7ab07f61",
   "metadata": {},
   "outputs": [
    {
     "data": {
      "text/html": [
       "<table>\n",
       "<thead><tr><th></th><th scope=col>2.5 %</th><th scope=col>97.5 %</th></tr></thead>\n",
       "<tbody>\n",
       "\t<tr><th scope=row>(Intercept)</th><td>0.12207434</td><td>1.7945093 </td></tr>\n",
       "\t<tr><th scope=row>yearsschool</th><td>0.06972263</td><td>0.4243324 </td></tr>\n",
       "</tbody>\n",
       "</table>\n"
      ],
      "text/latex": [
       "\\begin{tabular}{r|ll}\n",
       "  & 2.5 \\% & 97.5 \\%\\\\\n",
       "\\hline\n",
       "\t(Intercept) & 0.12207434 & 1.7945093 \\\\\n",
       "\tyearsschool & 0.06972263 & 0.4243324 \\\\\n",
       "\\end{tabular}\n"
      ],
      "text/markdown": [
       "\n",
       "| <!--/--> | 2.5 % | 97.5 % |\n",
       "|---|---|---|\n",
       "| (Intercept) | 0.12207434 | 1.7945093  |\n",
       "| yearsschool | 0.06972263 | 0.4243324  |\n",
       "\n"
      ],
      "text/plain": [
       "            2.5 %      97.5 %   \n",
       "(Intercept) 0.12207434 1.7945093\n",
       "yearsschool 0.06972263 0.4243324"
      ]
     },
     "metadata": {},
     "output_type": "display_data"
    },
    {
     "name": "stdout",
     "output_type": "stream",
     "text": [
      "Also\n",
      "At alpha= 0.05 and d.f.= 64 T_crit= -1.99773"
     ]
    }
   ],
   "source": [
    "confint(bivariate_model, level=0.95)\n",
    "deg_free <- dim(econ_growth)[1]-1\n",
    "alpha = .025\n",
    "t_crit <- qt(p = alpha, df = deg_free, lower.tail = TRUE)\n",
    "cat(\"Also\\nAt alpha=\", alpha*2,\"and d.f.=\", deg_free, \"T_crit=\", t_crit)"
   ]
  },
  {
   "cell_type": "markdown",
   "id": "35ccb79e",
   "metadata": {},
   "source": [
    "**Hypthesis Test:**\n",
    "\\begin{align}\n",
    "\\hat{\\beta_1} \\text{  } 95\\text{% CI} &= \\left[0.0697, 0.4243\\right] \\\\\n",
    "H_0 : \\hat{\\beta_1} &= 0 \\\\\n",
    "H_0 : \\hat{\\beta_1} &\\neq 0 \\\\\n",
    "\\text{Given: }\\\\\n",
    "t &= 2.784 \\\\\n",
    "|t_{critical}| &= 1.998 \\\\\n",
    "t &> |t_{critical}| \\\\\n",
    "p &= 0.007\n",
    "\\end{align}  \n",
    "\n",
    "We can reject the null hypothesis that educational attainment is not a significant predictor of economic growth with over 99% confidence (p=0.007)\n",
    "\n",
    "### e)  Interpret the R-squared. Does the regression provide a good fit?\n",
    "\n",
    "**Answer:**"
   ]
  },
  {
   "cell_type": "markdown",
   "id": "10571184",
   "metadata": {},
   "source": [
    "### f) Does the association between a country’s economic growth and educational attainment persist once we control for the number of political assassinations?"
   ]
  },
  {
   "cell_type": "code",
   "execution_count": 6,
   "id": "b0b65068",
   "metadata": {},
   "outputs": [
    {
     "data": {
      "text/plain": [
       "MODEL INFO:\n",
       "Observations: 65\n",
       "Dependent Variable: growth\n",
       "Type: OLS linear regression \n",
       "\n",
       "MODEL FIT:\n",
       "F(2,62) = 4.29457, p = 0.01792\n",
       "R² = 0.12168\n",
       "Adj. R² = 0.09334 \n",
       "\n",
       "Standard errors: OLS\n",
       "------------------------------------------------------------------------\n",
       "                          Est.       2.5%     97.5%     t val.         p\n",
       "------------------- ---------- ---------- --------- ---------- ---------\n",
       "(Intercept)            1.11847    0.21229   2.02465    2.46726   0.01639\n",
       "yearsschool            0.23666    0.05769   0.41563    2.64330   0.01038\n",
       "assasinations         -0.42824   -1.35382   0.49734   -0.92487   0.35862\n",
       "------------------------------------------------------------------------"
      ]
     },
     "metadata": {},
     "output_type": "display_data"
    }
   ],
   "source": [
    "multivariate_model <- lm(growth ~ yearsschool + assasinations, data=econ_growth)\n",
    "summ(multivariate_model, confint = TRUE, ci.width = .95, digits = 5)"
   ]
  },
  {
   "cell_type": "markdown",
   "id": "3f32fab2",
   "metadata": {},
   "source": [
    "Controlling for political assasinations, the association between a country's economic growth and educational attainment is basically unchanged - $\\hat{\\beta_1} = 0.24703$, $p = 0.00473$ in the bivariate regression, versus $\\hat{\\beta_1} = 0.23666$, $p = 0.01014$ when controlling for assasinations. There is a slight decrease in slope, t value, and slight increase in p, but the association is still statistically significant."
   ]
  },
  {
   "cell_type": "markdown",
   "id": "d8773365",
   "metadata": {},
   "source": [
    "# Question #5: The Determinants of Test Scores\n",
    "| Variable      | Definition |\n",
    "| :----------- | -----------: |\n",
    "|Experience | Years of total teacher experience|\n",
    "|Mathscore | Total scaled math score (measured in points)|\n",
    "|Freelunch | =1 if student is receiving a subsidized lunch, 0 else|\n",
    "|Masters | =1 if the teacher has a master’s (MA), 0 else|\n",
    "|Innercity | =1 if the student’s residence is located in the inner city |\n",
    "\n",
    "## a) Provide an estimate of these coefficients:\n",
    "\\begin{align}\n",
    "Mathscore_i = \\beta_0 + \\beta_1FreeLunch_i + \\epsilon_i\n",
    "\\end{align}"
   ]
  },
  {
   "cell_type": "code",
   "execution_count": 142,
   "id": "c6d28f82",
   "metadata": {},
   "outputs": [
    {
     "data": {
      "text/plain": [
       "\n",
       "Call:\n",
       "lm(formula = mathscore ~ freelunch, data = tn_star)\n",
       "\n",
       "Residuals:\n",
       "     Min       1Q   Median       3Q      Max \n",
       "-185.325  -33.539   -5.325   26.675  152.675 \n",
       "\n",
       "Coefficients:\n",
       "            Estimate Std. Error t value Pr(>|t|)    \n",
       "(Intercept) 496.5394     0.8381  592.47   <2e-16 ***\n",
       "freelunch   -23.2142     1.2086  -19.21   <2e-16 ***\n",
       "---\n",
       "Signif. codes:  0 '***' 0.001 '**' 0.01 '*' 0.05 '.' 0.1 ' ' 1\n",
       "\n",
       "Residual standard error: 46.27 on 5869 degrees of freedom\n",
       "Multiple R-squared:  0.05914,\tAdjusted R-squared:  0.05898 \n",
       "F-statistic: 368.9 on 1 and 5869 DF,  p-value: < 2.2e-16\n"
      ]
     },
     "metadata": {},
     "output_type": "display_data"
    }
   ],
   "source": [
    "bivariate_model_tn_star <- lm(mathscore ~ freelunch, data=tn_star)\n",
    "summary(bivariate_model_tn_star, digits = 5)"
   ]
  },
  {
   "cell_type": "markdown",
   "id": "5879fdf5",
   "metadata": {},
   "source": [
    "### b) If we interpret these results causally, what is the effect of providing the lunch subsidy to needy students? \n",
    "\n",
    "ffff\n",
    "   "
   ]
  },
  {
   "cell_type": "markdown",
   "id": "fed298e1",
   "metadata": {},
   "source": [
    "### c) Another legislator objects to this regression and suggests that there is omitted variable bias. Provide one possible omitted variable and derive the bias associated with its exclusion in the regression you estimated in a). \n"
   ]
  },
  {
   "cell_type": "code",
   "execution_count": 8,
   "id": "40dff073",
   "metadata": {},
   "outputs": [
    {
     "data": {
      "text/plain": [
       "MODEL INFO:\n",
       "Observations: 5850 (21 missing obs. deleted)\n",
       "Dependent Variable: mathscore\n",
       "Type: OLS linear regression \n",
       "\n",
       "MODEL FIT:\n",
       "F(2,5847) = 207.69432, p = 0.00000\n",
       "R² = 0.06633\n",
       "Adj. R² = 0.06601 \n",
       "\n",
       "Standard errors: OLS\n",
       "---------------------------------------------------------------------------\n",
       "                         Est.        2.5%       97.5%      t val.         p\n",
       "----------------- ----------- ----------- ----------- ----------- ---------\n",
       "(Intercept)         489.91026   487.34286   492.47766   374.07687   0.00000\n",
       "freelunch           -22.72617   -25.09830   -20.35405   -18.78134   0.00000\n",
       "experience            0.69399     0.48956     0.89841     6.65506   0.00000\n",
       "---------------------------------------------------------------------------"
      ]
     },
     "metadata": {},
     "output_type": "display_data"
    }
   ],
   "source": [
    "omitted_var_model_tn_star <- lm(mathscore ~ freelunch + experience, data=tn_star)\n",
    "summ(omitted_var_model_tn_star, confint = TRUE, ci.width = .95, digits = 5)"
   ]
  },
  {
   "cell_type": "code",
   "execution_count": null,
   "id": "10014bc4",
   "metadata": {},
   "outputs": [],
   "source": []
  },
  {
   "cell_type": "markdown",
   "id": "9cb7d6c3",
   "metadata": {},
   "source": [
    "###  d) This legislator claims that students in the inner-city are more likely to be on FreeLunch. Investigate this claim by running the regression:\n",
    "\\begin{align}\n",
    "Mathscore_i = \\beta_0 + \\beta_1FreeLunch_i + \\beta_2InnerCity_i + \\epsilon_i\n",
    "\\end{align}\n",
    "#### Comparing the coefficient in d) with that in a) what can you say about the correlation between FreeLunch and Innercity?"
   ]
  },
  {
   "cell_type": "code",
   "execution_count": 144,
   "id": "a70a6830",
   "metadata": {},
   "outputs": [
    {
     "data": {
      "text/plain": [
       "\n",
       "Call:\n",
       "lm(formula = mathscore ~ freelunch + innercity, data = tn_star)\n",
       "\n",
       "Residuals:\n",
       "     Min       1Q   Median       3Q      Max \n",
       "-180.079  -32.979   -4.069   25.921  157.921 \n",
       "\n",
       "Coefficients:\n",
       "            Estimate Std. Error t value Pr(>|t|)    \n",
       "(Intercept) 496.9686     0.8396 591.927  < 2e-16 ***\n",
       "freelunch   -19.9896     1.3391 -14.928  < 2e-16 ***\n",
       "innercity    -8.8998     1.6087  -5.532  3.3e-08 ***\n",
       "---\n",
       "Signif. codes:  0 '***' 0.001 '**' 0.01 '*' 0.05 '.' 0.1 ' ' 1\n",
       "\n",
       "Residual standard error: 46.15 on 5868 degrees of freedom\n",
       "Multiple R-squared:  0.06402,\tAdjusted R-squared:  0.0637 \n",
       "F-statistic: 200.7 on 2 and 5868 DF,  p-value: < 2.2e-16\n"
      ]
     },
     "metadata": {},
     "output_type": "display_data"
    }
   ],
   "source": [
    "multivar_model_tn_star <- lm(mathscore ~ freelunch + innercity, data=tn_star)\n",
    "summary(multivar_model_tn_star, digits = 5)"
   ]
  },
  {
   "cell_type": "code",
   "execution_count": null,
   "id": "3f852fd2",
   "metadata": {},
   "outputs": [],
   "source": []
  }
 ],
 "metadata": {
  "kernelspec": {
   "display_name": "R",
   "language": "R",
   "name": "ir"
  },
  "language_info": {
   "codemirror_mode": "r",
   "file_extension": ".r",
   "mimetype": "text/x-r-source",
   "name": "R",
   "pygments_lexer": "r",
   "version": "3.6.1"
  }
 },
 "nbformat": 4,
 "nbformat_minor": 5
}
